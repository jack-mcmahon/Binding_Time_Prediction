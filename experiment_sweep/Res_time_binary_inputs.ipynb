{
 "cells": [
  {
   "cell_type": "code",
   "execution_count": null,
   "metadata": {},
   "outputs": [],
   "source": [
    "from __future__ import print_function, division\n",
    "import os\n",
    "import sys\n",
    "import numpy as np\n",
    "import pandas as pd\n",
    "import scipy\n",
    "import matplotlib.pyplot as plt\n",
    "import math\n",
    "import itertools\n",
    "import pickle\n",
    "from numpy import log2, zeros, mean, var, sum, loadtxt, arange, array, cumsum, dot, transpose, diagonal, floor\n",
    "from numpy.linalg import inv, lstsq\n",
    "from itertools import groupby\n",
    "from IPython.display import display, HTML\n",
    "display(HTML(\"<style>.container { width:100% !important; }</style>\"))\n",
    "import torch\n",
    "import torch.nn as nn\n",
    "import torch.nn.functional as F\n",
    "from torch.utils.data import TensorDataset\n",
    "from torch.utils.data import DataLoader\n",
    "from torch.utils.data import random_split\n",
    "print(torch.__version__)\n",
    "import torchmetrics\n",
    "from sklearn.metrics import confusion_matrix\n",
    "from sklearn.metrics import accuracy_score"
   ]
  },
  {
   "cell_type": "code",
   "execution_count": null,
   "metadata": {},
   "outputs": [],
   "source": [
    "hydrodf = pd.read_pickle(\"/Users/jackmcmahon/Development/CHEM 101.6/residence_time_prediction/hphob_dict_lig47\")"
   ]
  },
  {
   "cell_type": "code",
   "execution_count": null,
   "metadata": {},
   "outputs": [
    {
     "name": "stdout",
     "output_type": "stream",
     "text": [
      "(1100889, 1500)\n"
     ]
    }
   ],
   "source": [
    "frames = [hydrodf[key]['distance'] for key in hydrodf.keys()]\n",
    "hydrocombined = np.concatenate(frames, axis=1)\n",
    "print(hydrocombined.shape)"
   ]
  },
  {
   "cell_type": "code",
   "execution_count": null,
   "metadata": {},
   "outputs": [],
   "source": [
    "df = pd.read_pickle(\"/Users/jackmcmahon/Development/CHEM 101.6/residence_time_prediction/lig47_hbonds_dict\")"
   ]
  },
  {
   "cell_type": "code",
   "execution_count": null,
   "metadata": {},
   "outputs": [],
   "source": [
    "# h bond cutoff of 0.35 nm Baker Hubbard"
   ]
  },
  {
   "cell_type": "code",
   "execution_count": null,
   "metadata": {},
   "outputs": [
    {
     "name": "stdout",
     "output_type": "stream",
     "text": [
      "(1100889, 314)\n"
     ]
    }
   ],
   "source": [
    "frames = [df[key]['distances'] for key in df.keys()]\n",
    "combined = np.concatenate(frames, axis=1)\n",
    "print(combined.shape)"
   ]
  },
  {
   "cell_type": "code",
   "execution_count": null,
   "metadata": {},
   "outputs": [
    {
     "name": "stdout",
     "output_type": "stream",
     "text": [
      "(1100889, 3)\n"
     ]
    }
   ],
   "source": [
    "dfaro = np.load(\"/Users/jackmcmahon/Development/CHEM 101.6/residence_time_prediction/aro_contacts.npy\")\n",
    "print(dfaro.shape)"
   ]
  },
  {
   "cell_type": "code",
   "execution_count": null,
   "metadata": {},
   "outputs": [
    {
     "name": "stdout",
     "output_type": "stream",
     "text": [
      "(1100889, 9)\n"
     ]
    }
   ],
   "source": [
    "dcharges = np.load(\"/Users/jackmcmahon/Development/CHEM 101.6/residence_time_prediction/charge_dist_matrix.npy\")\n",
    "print(dcharges.shape)"
   ]
  },
  {
   "cell_type": "code",
   "execution_count": null,
   "metadata": {},
   "outputs": [
    {
     "name": "stdout",
     "output_type": "stream",
     "text": [
      "(1100889, 20)\n"
     ]
    }
   ],
   "source": [
    "dmat = np.load(\"distance_matrix_full_LIG.npy\")\n",
    "print(dmat.shape)\n",
    "\n",
    "def combined_residence_events(data):\n",
    "  idx = np.arange(len(data[:,0]))\n",
    "  \n",
    "  bool = np.where(data<.6,1,0)\n",
    "  any_event_residue = np.any(bool, axis=1)\n",
    "  \n",
    "  comp = np.stack([idx,any_event_residue],axis = 1)\n",
    "  return [i[:,0][1:] if len(i)>1 else i[:,0] for i in filter(lambda x:any(x[:,1]!=0),np.split(comp,np.where(comp[:,1]==0)[0]))]"
   ]
  },
  {
   "cell_type": "code",
   "execution_count": null,
   "metadata": {},
   "outputs": [
    {
     "name": "stdout",
     "output_type": "stream",
     "text": [
      "True\n",
      "True\n",
      "True\n",
      "True\n"
     ]
    }
   ],
   "source": [
    "#binary\n",
    "# 0.35 h bond, 0.5 charge, 0.4 hydrophobic, 1 aromatic\n",
    "# print(np.any(dfaro >= 1))\n",
    "# print(np.any(combined >= 0.35))\n",
    "# print(np.any(dcharges >= 0.5))\n",
    "# print(np.any(hydrocombined >= 0.4))"
   ]
  },
  {
   "cell_type": "code",
   "execution_count": null,
   "metadata": {},
   "outputs": [],
   "source": [
    "# inputs = torch.from_numpy(std_avg)\n",
    "# inputs = torch.tensor(inputs, dtype=torch.float32)\n",
    "# print(inputs.shape)\n",
    "# print(inputs)\n",
    "# targets= torch.from_numpy(np.reshape(logmapping, (logmapping.shape[0],1)))\n",
    "# targets = torch.tensor(targets, dtype=torch.float32)\n",
    "# print(targets.shape)\n",
    "# print(targets)\n",
    "# dataset = TensorDataset(inputs, targets)\n",
    "\n",
    "# N = dmat.shape[0]\n",
    "N = 11278\n",
    "indices = np.arange(N)\n",
    "# indices = np.random.permutation(indices)\n",
    "train_indices = indices[:int(0.7*N)]\n",
    "val_indices = indices[int(0.7*N):int(0.8*N)]\n",
    "test_indices = indices[int(0.8*N):int(1*N)]\n",
    "\n",
    "print(len(train_indices))\n",
    "print(train_indices)\n",
    "train_len = len(train_indices)\n",
    "print(len(val_indices))\n",
    "print(val_indices)\n",
    "val_len = len(val_indices)\n",
    "print(len(test_indices))\n",
    "print(test_indices)\n",
    "test_len = len(test_indices)"
   ]
  },
  {
   "cell_type": "code",
   "execution_count": null,
   "metadata": {},
   "outputs": [
    {
     "name": "stdout",
     "output_type": "stream",
     "text": [
      "Longest five events: [12021  7432  5990  4327  3629]\n",
      "Total events: 32264\n",
      "With avg distance input data of shape: (32264, 24)\n",
      "Events between 5 and 476 frames: 11279\n",
      "With avg distance in put data of shape: (11279, 24)\n",
      "Events between 25 and 476 frames: 4589\n",
      "With avg distance input data of shape: (4589, 24)\n"
     ]
    }
   ],
   "source": [
    "events_all = combined_residence_events(dmat)\n",
    "mapping_all = np.zeros(len(events_all))\n",
    "avg_all = np.zeros([len(events_all), len(dmat[0,:])])\n",
    "mapping_5_476 = np.zeros(len(events_all))\n",
    "avg_5_476 = np.zeros([len(events_all), len(dmat[0,:])])\n",
    "mapping_25_476 = np.zeros(len(events_all))\n",
    "avg_25_476 = np.zeros([len(events_all), len(dmat[0,:])])\n",
    "\n",
    "\n",
    "avg_hbond_all = np.zeros([len(events_all), 1])\n",
    "avg_aro_all = np.zeros([len(events_all), 1])\n",
    "avg_charges_all = np.zeros([len(events_all), 1])\n",
    "avg_hydro_all = np.zeros([len(events_all), 1])\n",
    "\n",
    "# avg_all is all events\n",
    "# avg_5_476 is middle range\n",
    "# avg_25_476 is narrowest range\n",
    "\n",
    "count = 0\n",
    "for event in events_all:\n",
    "  mapping_all[count] = len(event)\n",
    "  avg_all[count] = np.mean(dmat[event[0]:event[-1]+1], axis=0)\n",
    "  avg_hbond_all[count] = np.any(combined[event[0]:event[-1]+1] <= 0.35)\n",
    "  avg_aro_all[count] = np.any(dfaro[event[0]:event[-1]+1] >= 1)\n",
    "  avg_charges_all[count] = np.any(dcharges[event[0]:event[-1]+1] <= 0.5)\n",
    "  avg_hydro_all[count] = np.any(hydrocombined[event[0]:event[-1]+1] <= 0.4)\n",
    "  count += 1\n",
    "  \n",
    "avg_new = np.concatenate([avg_all,avg_hydro_all,avg_hbond_all, avg_aro_all, avg_charges_all], axis=1)\n",
    "\n",
    "# stats\n",
    "sortevents = np.sort(np.array([len(i) for i in events_all]))[::-1]\n",
    "print(\"Longest five events:\", sortevents[:5])\n",
    "\n",
    "\n",
    "# Getting different ranges\n",
    "mapping_5_476 = mapping_all[mapping_all > 4]\n",
    "avg_5_476 = avg_new[mapping_all > 4]\n",
    "avg_5_476 = avg_5_476[mapping_5_476 < 477]\n",
    "mapping_5_476 = mapping_5_476[mapping_5_476 < 477]\n",
    "\n",
    "mapping_25_476 = mapping_all[mapping_all > 24]\n",
    "avg_25_476 = avg_new[mapping_all > 24]\n",
    "avg_25_476 = avg_25_476[mapping_25_476 < 477]\n",
    "mapping_25_476 = mapping_25_476[mapping_25_476 < 477]\n",
    "\n",
    "\n",
    "print(\"Total events:\", len(mapping_all))\n",
    "print(\"With avg distance input data of shape:\", avg_new.shape)\n",
    "\n",
    "print(\"Events between 5 and 476 frames:\", len(mapping_5_476))\n",
    "print(\"With avg distance in put data of shape:\", avg_5_476.shape)\n",
    "\n",
    "print(\"Events between 25 and 476 frames:\", len(mapping_25_476))\n",
    "print(\"With avg distance input data of shape:\", avg_25_476.shape)\n"
   ]
  },
  {
   "cell_type": "code",
   "execution_count": null,
   "metadata": {},
   "outputs": [
    {
     "name": "stdout",
     "output_type": "stream",
     "text": [
      "input shape for train (7894, 24)\n"
     ]
    },
    {
     "name": "stderr",
     "output_type": "stream",
     "text": [
      "/opt/anaconda3/envs/chemresearch/lib/python3.12/site-packages/pytorch_tabnet/abstract_model.py:82: UserWarning: Device used : cpu\n",
      "  warnings.warn(f\"Device used : {self.device}\")\n"
     ]
    },
    {
     "name": "stdout",
     "output_type": "stream",
     "text": [
      "epoch 0  | loss: 2.2025  | val_0_mse: 0.99663 |  0:00:00s\n",
      "epoch 1  | loss: 0.50182 | val_0_mse: 0.62242 |  0:00:00s\n",
      "epoch 2  | loss: 0.38152 | val_0_mse: 0.62774 |  0:00:01s\n",
      "epoch 3  | loss: 0.35251 | val_0_mse: 0.64154 |  0:00:01s\n",
      "epoch 4  | loss: 0.34361 | val_0_mse: 0.64011 |  0:00:01s\n",
      "epoch 5  | loss: 0.32703 | val_0_mse: 0.62929 |  0:00:01s\n",
      "epoch 6  | loss: 0.31852 | val_0_mse: 0.61823 |  0:00:02s\n",
      "epoch 7  | loss: 0.32122 | val_0_mse: 0.60638 |  0:00:02s\n",
      "epoch 8  | loss: 0.30782 | val_0_mse: 0.55578 |  0:00:02s\n",
      "epoch 9  | loss: 0.30462 | val_0_mse: 0.51703 |  0:00:03s\n",
      "epoch 10 | loss: 0.30826 | val_0_mse: 0.4999  |  0:00:03s\n",
      "epoch 11 | loss: 0.30485 | val_0_mse: 0.50105 |  0:00:03s\n",
      "epoch 12 | loss: 0.30291 | val_0_mse: 0.50886 |  0:00:04s\n",
      "epoch 13 | loss: 0.28925 | val_0_mse: 0.48623 |  0:00:04s\n",
      "epoch 14 | loss: 0.2906  | val_0_mse: 0.48888 |  0:00:04s\n",
      "epoch 15 | loss: 0.29247 | val_0_mse: 0.50248 |  0:00:04s\n",
      "epoch 16 | loss: 0.29121 | val_0_mse: 0.48816 |  0:00:05s\n",
      "epoch 17 | loss: 0.28155 | val_0_mse: 0.50182 |  0:00:05s\n",
      "epoch 18 | loss: 0.27812 | val_0_mse: 0.49111 |  0:00:06s\n",
      "epoch 19 | loss: 0.28782 | val_0_mse: 0.46464 |  0:00:06s\n",
      "epoch 20 | loss: 0.28236 | val_0_mse: 0.47935 |  0:00:06s\n",
      "epoch 21 | loss: 0.28153 | val_0_mse: 0.45007 |  0:00:06s\n",
      "epoch 22 | loss: 0.27103 | val_0_mse: 0.41203 |  0:00:07s\n",
      "epoch 23 | loss: 0.28015 | val_0_mse: 0.42867 |  0:00:07s\n",
      "epoch 24 | loss: 0.26712 | val_0_mse: 0.39924 |  0:00:07s\n",
      "epoch 25 | loss: 0.27747 | val_0_mse: 0.41919 |  0:00:08s\n",
      "epoch 26 | loss: 0.27288 | val_0_mse: 0.41133 |  0:00:08s\n",
      "epoch 27 | loss: 0.26337 | val_0_mse: 0.38574 |  0:00:08s\n",
      "epoch 28 | loss: 0.26785 | val_0_mse: 0.38255 |  0:00:08s\n",
      "epoch 29 | loss: 0.27425 | val_0_mse: 0.34757 |  0:00:09s\n",
      "epoch 30 | loss: 0.27569 | val_0_mse: 0.34505 |  0:00:09s\n",
      "epoch 31 | loss: 0.27421 | val_0_mse: 0.34489 |  0:00:09s\n",
      "epoch 32 | loss: 0.27075 | val_0_mse: 0.31903 |  0:00:10s\n",
      "epoch 33 | loss: 0.27326 | val_0_mse: 0.3342  |  0:00:10s\n",
      "epoch 34 | loss: 0.26702 | val_0_mse: 0.30389 |  0:00:10s\n",
      "epoch 35 | loss: 0.2742  | val_0_mse: 0.31805 |  0:00:11s\n",
      "epoch 36 | loss: 0.26851 | val_0_mse: 0.30106 |  0:00:11s\n",
      "epoch 37 | loss: 0.26581 | val_0_mse: 0.32201 |  0:00:11s\n",
      "epoch 38 | loss: 0.26894 | val_0_mse: 0.29942 |  0:00:11s\n",
      "epoch 39 | loss: 0.26185 | val_0_mse: 0.29278 |  0:00:12s\n",
      "epoch 40 | loss: 0.25439 | val_0_mse: 0.28176 |  0:00:12s\n",
      "epoch 41 | loss: 0.26348 | val_0_mse: 0.313   |  0:00:12s\n",
      "epoch 42 | loss: 0.26696 | val_0_mse: 0.29202 |  0:00:13s\n",
      "epoch 43 | loss: 0.25938 | val_0_mse: 0.29603 |  0:00:13s\n",
      "epoch 44 | loss: 0.24745 | val_0_mse: 0.29358 |  0:00:13s\n",
      "epoch 45 | loss: 0.25565 | val_0_mse: 0.30082 |  0:00:14s\n",
      "epoch 46 | loss: 0.25179 | val_0_mse: 0.28315 |  0:00:14s\n",
      "epoch 47 | loss: 0.26249 | val_0_mse: 0.29741 |  0:00:14s\n",
      "epoch 48 | loss: 0.26352 | val_0_mse: 0.27851 |  0:00:14s\n",
      "epoch 49 | loss: 0.26394 | val_0_mse: 0.27547 |  0:00:15s\n",
      "epoch 50 | loss: 0.25267 | val_0_mse: 0.2972  |  0:00:15s\n",
      "epoch 51 | loss: 0.25771 | val_0_mse: 0.28643 |  0:00:15s\n",
      "epoch 52 | loss: 0.26118 | val_0_mse: 0.27996 |  0:00:16s\n",
      "epoch 53 | loss: 0.25898 | val_0_mse: 0.28408 |  0:00:16s\n",
      "epoch 54 | loss: 0.2449  | val_0_mse: 0.28722 |  0:00:16s\n",
      "epoch 55 | loss: 0.24885 | val_0_mse: 0.29509 |  0:00:16s\n",
      "epoch 56 | loss: 0.23281 | val_0_mse: 0.29301 |  0:00:17s\n",
      "epoch 57 | loss: 0.24358 | val_0_mse: 0.30991 |  0:00:17s\n",
      "epoch 58 | loss: 0.23508 | val_0_mse: 0.28773 |  0:00:17s\n",
      "epoch 59 | loss: 0.24133 | val_0_mse: 0.28548 |  0:00:18s\n",
      "\n",
      "Early stopping occurred at epoch 59 with best_epoch = 49 and best_val_0_mse = 0.27547\n"
     ]
    },
    {
     "name": "stderr",
     "output_type": "stream",
     "text": [
      "/opt/anaconda3/envs/chemresearch/lib/python3.12/site-packages/pytorch_tabnet/callbacks.py:172: UserWarning: Best weights from best epoch are automatically used!\n",
      "  warnings.warn(wrn_msg)\n"
     ]
    },
    {
     "name": "stdout",
     "output_type": "stream",
     "text": [
      "pred mean 47.33249\n",
      "groun truth mean 52.211436170212764\n"
     ]
    }
   ],
   "source": [
    "mapping = mapping_5_476\n",
    "avg = avg_5_476\n",
    "scaledmapping = mapping/100\n",
    "a1 = avg[train_indices]\n",
    "m1 = scaledmapping[train_indices]\n",
    "a2 = avg[val_indices]\n",
    "m2 = scaledmapping[val_indices]\n",
    "a3 = avg[test_indices]\n",
    "m3 = scaledmapping[test_indices]\n",
    "print(\"input shape for train\", a1.shape)\n",
    "a1 = a1.reshape(a1.shape[0], -1)\n",
    "a2 = a2.reshape(a2.shape[0], -1)\n",
    "a3 = a3.reshape(a3.shape[0], -1)\n",
    "\n",
    "clf = TabNetRegressor()\n",
    "clf.fit(\n",
    "  a1, m1.reshape(-1, 1),\n",
    "  eval_set=[(a2, m2.reshape(-1, 1))], max_epochs=100\n",
    ")\n",
    "\n",
    "preds = clf.predict(a3)\n",
    "preds = preds[:,0]\n",
    "\n",
    "ap2 = preds*100\n",
    "al2 = m3*100\n",
    "\n",
    "print(\"pred mean\", np.mean(ap2))\n",
    "print(\"groun truth mean\", np.mean(al2))"
   ]
  },
  {
   "cell_type": "code",
   "execution_count": null,
   "metadata": {},
   "outputs": [
    {
     "name": "stdout",
     "output_type": "stream",
     "text": [
      "r2: 0.7934889309606692\n"
     ]
    },
    {
     "data": {
      "image/png": "[encoded data removed]",
      "text/plain": [
       "<Figure size 640x480 with 1 Axes>"
      ]
     },
     "metadata": {},
     "output_type": "display_data"
    }
   ],
   "source": [
    "plt.scatter(ap2,al2)\n",
    "# r=np.corrcoef(ap2[:,0], al2[:,0])\n",
    "r=np.corrcoef(ap2, al2)\n",
    "print(\"r2:\",r[0,1])\n",
    "\n",
    "# line_fit=np.polyfit(ap2[:,0], al2[:,0], 1)\n",
    "x = np.linspace(0, 350,20)\n",
    "y = 1*x\n",
    "plt.plot(x,y,c='r', label='reference line slope=1')\n",
    "plt.title(\"LIG47 Binary interactions with avg distances (98% range events)\")\n",
    "plt.ylabel('actual')\n",
    "plt.legend()\n",
    "plt.xlabel('prediction')\n",
    "plt.show()\n"
   ]
  },
  {
   "cell_type": "code",
   "execution_count": null,
   "metadata": {},
   "outputs": [
    {
     "name": "stdout",
     "output_type": "stream",
     "text": [
      "input shape for train (7894, 20)\n"
     ]
    },
    {
     "name": "stderr",
     "output_type": "stream",
     "text": [
      "/opt/anaconda3/envs/chemresearch/lib/python3.12/site-packages/pytorch_tabnet/abstract_model.py:82: UserWarning: Device used : cpu\n",
      "  warnings.warn(f\"Device used : {self.device}\")\n"
     ]
    },
    {
     "name": "stdout",
     "output_type": "stream",
     "text": [
      "epoch 0  | loss: 5.45993 | val_0_mse: 1.07091 |  0:00:00s\n",
      "epoch 1  | loss: 4.14826 | val_0_mse: 1.0706  |  0:00:00s\n",
      "epoch 2  | loss: 1.94254 | val_0_mse: 1.11433 |  0:00:00s\n",
      "epoch 3  | loss: 3.78801 | val_0_mse: 1.06348 |  0:00:01s\n",
      "epoch 4  | loss: 3.77506 | val_0_mse: 1.07523 |  0:00:01s\n",
      "epoch 5  | loss: 3.7877  | val_0_mse: 1.07322 |  0:00:01s\n",
      "epoch 6  | loss: 3.77299 | val_0_mse: 1.05716 |  0:00:02s\n",
      "epoch 7  | loss: 3.88863 | val_0_mse: 1.05058 |  0:00:02s\n",
      "epoch 8  | loss: 3.64206 | val_0_mse: 1.05919 |  0:00:02s\n",
      "epoch 9  | loss: 3.0807  | val_0_mse: 1.05001 |  0:00:03s\n",
      "epoch 10 | loss: 3.45394 | val_0_mse: 1.04585 |  0:00:03s\n",
      "epoch 11 | loss: 3.62892 | val_0_mse: 1.04139 |  0:00:03s\n",
      "epoch 12 | loss: 1.70212 | val_0_mse: 1.02911 |  0:00:04s\n",
      "epoch 13 | loss: 3.47809 | val_0_mse: 1.04498 |  0:00:04s\n",
      "epoch 14 | loss: 3.46068 | val_0_mse: 1.04497 |  0:00:04s\n",
      "epoch 15 | loss: 3.79093 | val_0_mse: 1.02786 |  0:00:04s\n",
      "epoch 16 | loss: 3.4734  | val_0_mse: 1.03701 |  0:00:05s\n",
      "epoch 17 | loss: 3.40904 | val_0_mse: 1.04317 |  0:00:05s\n",
      "epoch 18 | loss: 3.65099 | val_0_mse: 1.03521 |  0:00:05s\n",
      "epoch 19 | loss: 3.32304 | val_0_mse: 1.02299 |  0:00:06s\n",
      "epoch 20 | loss: 2.71124 | val_0_mse: 1.01751 |  0:00:06s\n",
      "epoch 21 | loss: 2.62875 | val_0_mse: 1.00741 |  0:00:06s\n",
      "epoch 22 | loss: 3.36972 | val_0_mse: 0.98388 |  0:00:07s\n",
      "epoch 23 | loss: 3.20857 | val_0_mse: 0.97921 |  0:00:07s\n",
      "epoch 24 | loss: 2.83419 | val_0_mse: 0.95542 |  0:00:07s\n",
      "epoch 25 | loss: 3.3143  | val_0_mse: 0.97549 |  0:00:07s\n",
      "epoch 26 | loss: 2.95166 | val_0_mse: 0.91924 |  0:00:08s\n",
      "epoch 27 | loss: 3.32029 | val_0_mse: 0.9007  |  0:00:08s\n",
      "epoch 28 | loss: 3.10455 | val_0_mse: 0.90571 |  0:00:08s\n",
      "epoch 29 | loss: 3.00389 | val_0_mse: 0.89423 |  0:00:09s\n",
      "epoch 30 | loss: 3.37338 | val_0_mse: 0.8629  |  0:00:09s\n",
      "epoch 31 | loss: 3.0356  | val_0_mse: 0.87348 |  0:00:09s\n",
      "epoch 32 | loss: 3.39164 | val_0_mse: 0.79892 |  0:00:09s\n",
      "epoch 33 | loss: 2.37335 | val_0_mse: 0.79761 |  0:00:10s\n",
      "epoch 34 | loss: 3.21002 | val_0_mse: 0.77453 |  0:00:10s\n",
      "epoch 35 | loss: 3.02033 | val_0_mse: 0.73449 |  0:00:10s\n",
      "epoch 36 | loss: 2.99532 | val_0_mse: 0.80768 |  0:00:11s\n",
      "epoch 37 | loss: 3.54144 | val_0_mse: 0.71592 |  0:00:11s\n",
      "epoch 38 | loss: 1.51543 | val_0_mse: 0.73394 |  0:00:11s\n",
      "epoch 39 | loss: 1.49409 | val_0_mse: 0.72165 |  0:00:11s\n",
      "epoch 40 | loss: 3.43252 | val_0_mse: 0.60835 |  0:00:12s\n",
      "epoch 41 | loss: 3.1669  | val_0_mse: 0.72755 |  0:00:12s\n",
      "epoch 42 | loss: 1.23299 | val_0_mse: 0.68452 |  0:00:13s\n",
      "epoch 43 | loss: 3.41496 | val_0_mse: 0.52163 |  0:00:13s\n",
      "epoch 44 | loss: 2.79971 | val_0_mse: 0.75292 |  0:00:13s\n",
      "epoch 45 | loss: 3.37383 | val_0_mse: 0.80643 |  0:00:13s\n",
      "epoch 46 | loss: 3.13553 | val_0_mse: 0.68294 |  0:00:14s\n",
      "epoch 47 | loss: 3.17126 | val_0_mse: 0.67747 |  0:00:14s\n",
      "epoch 48 | loss: 2.84705 | val_0_mse: 0.66628 |  0:00:14s\n",
      "epoch 49 | loss: 2.66769 | val_0_mse: 0.62921 |  0:00:15s\n",
      "epoch 50 | loss: 2.90915 | val_0_mse: 0.66613 |  0:00:15s\n",
      "epoch 51 | loss: 3.12937 | val_0_mse: 0.67245 |  0:00:15s\n",
      "epoch 52 | loss: 1.51719 | val_0_mse: 0.62984 |  0:00:16s\n",
      "epoch 53 | loss: 1.37962 | val_0_mse: 0.65568 |  0:00:16s\n",
      "\n",
      "Early stopping occurred at epoch 53 with best_epoch = 43 and best_val_0_mse = 0.52163\n",
      "pred mean 23.839529\n",
      "groun truth mean 25.79787234042553\n"
     ]
    },
    {
     "name": "stderr",
     "output_type": "stream",
     "text": [
      "/opt/anaconda3/envs/chemresearch/lib/python3.12/site-packages/pytorch_tabnet/callbacks.py:172: UserWarning: Best weights from best epoch are automatically used!\n",
      "  warnings.warn(wrn_msg)\n"
     ]
    }
   ],
   "source": [
    "mapping = mapping_all\n",
    "avg = avg_all\n",
    "scaledmapping = mapping/100\n",
    "a1 = avg[train_indices]\n",
    "m1 = scaledmapping[train_indices]\n",
    "a2 = avg[val_indices]\n",
    "m2 = scaledmapping[val_indices]\n",
    "a3 = avg[test_indices]\n",
    "m3 = scaledmapping[test_indices]\n",
    "print(\"input shape for train\", a1.shape)\n",
    "a1 = a1.reshape(a1.shape[0], -1)\n",
    "a2 = a2.reshape(a2.shape[0], -1)\n",
    "a3 = a3.reshape(a3.shape[0], -1)\n",
    "\n",
    "clf = TabNetRegressor()\n",
    "clf.fit(\n",
    "  a1, m1.reshape(-1, 1),\n",
    "  eval_set=[(a2, m2.reshape(-1, 1))], max_epochs=100\n",
    ")\n",
    "\n",
    "preds = clf.predict(a3)\n",
    "preds = preds[:,0]\n",
    "\n",
    "ap2 = preds*100\n",
    "al2 = m3*100\n",
    "\n",
    "print(\"pred mean\", np.mean(ap2))\n",
    "print(\"groun truth mean\", np.mean(al2))"
   ]
  },
  {
   "cell_type": "code",
   "execution_count": null,
   "metadata": {},
   "outputs": [
    {
     "name": "stdout",
     "output_type": "stream",
     "text": [
      "r2: 0.6688287756631495\n"
     ]
    },
    {
     "data": {
      "image/png": "[encoded data removed]",
      "text/plain": [
       "<Figure size 640x480 with 1 Axes>"
      ]
     },
     "metadata": {},
     "output_type": "display_data"
    }
   ],
   "source": [
    "plt.scatter(ap2,al2)\n",
    "# r=np.corrcoef(ap2[:,0], al2[:,0])\n",
    "r=np.corrcoef(ap2, al2)\n",
    "print(\"r2:\",r[0,1])\n",
    "\n",
    "# line_fit=np.polyfit(ap2[:,0], al2[:,0], 1)\n",
    "x = np.linspace(0, 1500,20)\n",
    "y = 1*x\n",
    "plt.plot(x,y,c='r', label='reference line slope=1')\n",
    "plt.title(\"LIG47 Binary interactions with avg distances (all events)\")\n",
    "plt.ylabel('actual')\n",
    "plt.legend()\n",
    "plt.xlabel('prediction')\n",
    "plt.show()"
   ]
  },
  {
   "cell_type": "code",
   "execution_count": null,
   "metadata": {},
   "outputs": [
    {
     "name": "stdout",
     "output_type": "stream",
     "text": [
      "predicted 520.7912 real: 2032.0\n",
      "predicted 216.28754 real: 1230.0\n",
      "predicted 233.95497 real: 1205.0\n",
      "predicted 531.29236 real: 1158.0\n",
      "predicted 337.57358 real: 841.0\n",
      "predicted 334.06528 real: 808.0\n",
      "predicted 386.11093 real: 764.0\n",
      "predicted 48.457996 real: 728.0\n",
      "predicted 332.27145 real: 704.0\n",
      "predicted 409.98935 real: 689.0\n",
      "\n",
      "predicted 1015.1562 real: 447.0\n",
      "predicted 730.6284 real: 396.0\n",
      "predicted 565.6894 real: 530.0\n",
      "predicted 531.29236 real: 1158.0\n",
      "predicted 520.7912 real: 2032.0\n",
      "predicted 464.85663 real: 98.0\n",
      "predicted 448.98926 real: 283.0\n",
      "predicted 409.98935 real: 689.0\n",
      "predicted 405.07397 real: 261.0\n",
      "predicted 396.85175 real: 401.99999999999994\n",
      "\n",
      "predicted -15.477602 real: 1.0\n",
      "predicted -14.767994 real: 2.0\n",
      "predicted -13.771072 real: 4.0\n",
      "predicted -13.542599 real: 1.0\n",
      "predicted -12.953258 real: 1.0\n",
      "predicted -12.9303875 real: 2.0\n",
      "predicted -12.881994 real: 1.0\n",
      "predicted -12.686571 real: 2.0\n",
      "predicted -12.602679 real: 2.0\n",
      "predicted -12.562113 real: 16.0\n"
     ]
    }
   ],
   "source": [
    "top = (-al2).argsort(axis=0)[:10]\n",
    "for index in top:\n",
    "  print(\"predicted\", ap2[index], \"real:\", al2[index])\n",
    "  \n",
    "print(\"\")\n",
    "  \n",
    "top = (-ap2).argsort(axis=0)[:10]\n",
    "for index in top:\n",
    "  print(\"predicted\", ap2[index], \"real:\", al2[index])\n",
    "  \n",
    "print(\"\")\n",
    "  \n",
    "bottom = (ap2).argsort(axis=0)[:10]\n",
    "for index in bottom:\n",
    "  print(\"predicted\", ap2[index], \"real:\", al2[index])"
   ]
  },
  {
   "cell_type": "code",
   "execution_count": null,
   "metadata": {},
   "outputs": [
    {
     "name": "stdout",
     "output_type": "stream",
     "text": [
      "Longest five events: [12021  7432  5990  4327  3629]\n",
      "Total events: 32264\n",
      "With avg distance input data of shape: (32264, 4)\n",
      "Events between 5 and 476 frames: 11279\n",
      "With avg distance in put data of shape: (11279, 4)\n",
      "Events between 25 and 476 frames: 4589\n",
      "With avg distance input data of shape: (4589, 4)\n"
     ]
    }
   ],
   "source": [
    "events_all = combined_residence_events(dmat)\n",
    "mapping_all = np.zeros(len(events_all))\n",
    "avg_all = np.zeros([len(events_all), len(dmat[0,:])])\n",
    "mapping_5_476 = np.zeros(len(events_all))\n",
    "avg_5_476 = np.zeros([len(events_all), len(dmat[0,:])])\n",
    "mapping_25_476 = np.zeros(len(events_all))\n",
    "avg_25_476 = np.zeros([len(events_all), len(dmat[0,:])])\n",
    "\n",
    "\n",
    "avg_hbond_all = np.zeros([len(events_all), 1])\n",
    "avg_aro_all = np.zeros([len(events_all), 1])\n",
    "avg_charges_all = np.zeros([len(events_all), 1])\n",
    "avg_hydro_all = np.zeros([len(events_all), 1])\n",
    "\n",
    "# avg_all is all events\n",
    "# avg_5_476 is middle range\n",
    "# avg_25_476 is narrowest range\n",
    "\n",
    "count = 0\n",
    "for event in events_all:\n",
    "  mapping_all[count] = len(event)\n",
    "  avg_all[count] = np.mean(dmat[event[0]:event[-1]+1], axis=0)\n",
    "  avg_hbond_all[count] = np.any(combined[event[0]:event[-1]+1] <= 0.35)\n",
    "  avg_aro_all[count] = np.any(dfaro[event[0]:event[-1]+1] >= 1)\n",
    "  avg_charges_all[count] = np.any(dcharges[event[0]:event[-1]+1] <= 0.5)\n",
    "  avg_hydro_all[count] = np.any(hydrocombined[event[0]:event[-1]+1] <= 0.4)\n",
    "  count += 1\n",
    "  \n",
    "avg_new = np.concatenate([avg_hydro_all,avg_hbond_all, avg_aro_all, avg_charges_all], axis=1)\n",
    "\n",
    "# stats\n",
    "sortevents = np.sort(np.array([len(i) for i in events_all]))[::-1]\n",
    "print(\"Longest five events:\", sortevents[:5])\n",
    "\n",
    "\n",
    "# Getting different ranges\n",
    "mapping_5_476 = mapping_all[mapping_all > 4]\n",
    "avg_5_476 = avg_new[mapping_all > 4]\n",
    "avg_5_476 = avg_5_476[mapping_5_476 < 477]\n",
    "mapping_5_476 = mapping_5_476[mapping_5_476 < 477]\n",
    "\n",
    "mapping_25_476 = mapping_all[mapping_all > 24]\n",
    "avg_25_476 = avg_new[mapping_all > 24]\n",
    "avg_25_476 = avg_25_476[mapping_25_476 < 477]\n",
    "mapping_25_476 = mapping_25_476[mapping_25_476 < 477]\n",
    "\n",
    "\n",
    "print(\"Total events:\", len(mapping_all))\n",
    "print(\"With avg distance input data of shape:\", avg_new.shape)\n",
    "\n",
    "print(\"Events between 5 and 476 frames:\", len(mapping_5_476))\n",
    "print(\"With avg distance in put data of shape:\", avg_5_476.shape)\n",
    "\n",
    "print(\"Events between 25 and 476 frames:\", len(mapping_25_476))\n",
    "print(\"With avg distance input data of shape:\", avg_25_476.shape)"
   ]
  },
  {
   "cell_type": "code",
   "execution_count": null,
   "metadata": {},
   "outputs": [
    {
     "name": "stdout",
     "output_type": "stream",
     "text": [
      "input shape for train (7894, 4)\n"
     ]
    },
    {
     "name": "stderr",
     "output_type": "stream",
     "text": [
      "/opt/anaconda3/envs/chemresearch/lib/python3.12/site-packages/pytorch_tabnet/abstract_model.py:82: UserWarning: Device used : cpu\n",
      "  warnings.warn(f\"Device used : {self.device}\")\n"
     ]
    },
    {
     "name": "stdout",
     "output_type": "stream",
     "text": [
      "epoch 0  | loss: 0.68054 | val_0_mse: 0.8048  |  0:00:00s\n",
      "epoch 1  | loss: 0.41643 | val_0_mse: 0.70403 |  0:00:00s\n",
      "epoch 2  | loss: 0.389   | val_0_mse: 0.94916 |  0:00:00s\n",
      "epoch 3  | loss: 0.37841 | val_0_mse: 0.93512 |  0:00:01s\n",
      "epoch 4  | loss: 0.37013 | val_0_mse: 0.72161 |  0:00:01s\n",
      "epoch 5  | loss: 0.3822  | val_0_mse: 0.74557 |  0:00:01s\n",
      "epoch 6  | loss: 0.375   | val_0_mse: 0.63773 |  0:00:02s\n",
      "epoch 7  | loss: 0.37601 | val_0_mse: 0.55028 |  0:00:02s\n",
      "epoch 8  | loss: 0.37321 | val_0_mse: 0.49105 |  0:00:02s\n",
      "epoch 9  | loss: 0.37156 | val_0_mse: 0.45278 |  0:00:02s\n",
      "epoch 10 | loss: 0.37702 | val_0_mse: 0.43771 |  0:00:03s\n",
      "epoch 11 | loss: 0.37612 | val_0_mse: 0.4145  |  0:00:03s\n",
      "epoch 12 | loss: 0.36756 | val_0_mse: 0.41579 |  0:00:03s\n",
      "epoch 13 | loss: 0.37111 | val_0_mse: 0.41439 |  0:00:04s\n",
      "epoch 14 | loss: 0.38013 | val_0_mse: 0.41501 |  0:00:04s\n",
      "epoch 15 | loss: 0.3766  | val_0_mse: 0.41683 |  0:00:04s\n",
      "epoch 16 | loss: 0.37647 | val_0_mse: 0.41052 |  0:00:05s\n",
      "epoch 17 | loss: 0.37056 | val_0_mse: 0.41107 |  0:00:05s\n",
      "epoch 18 | loss: 0.36964 | val_0_mse: 0.40733 |  0:00:05s\n",
      "epoch 19 | loss: 0.37558 | val_0_mse: 0.39639 |  0:00:06s\n",
      "epoch 20 | loss: 0.3757  | val_0_mse: 0.39309 |  0:00:06s\n",
      "epoch 21 | loss: 0.37174 | val_0_mse: 0.3835  |  0:00:06s\n",
      "epoch 22 | loss: 0.36358 | val_0_mse: 0.37652 |  0:00:07s\n",
      "epoch 23 | loss: 0.36861 | val_0_mse: 0.36695 |  0:00:07s\n",
      "epoch 24 | loss: 0.37114 | val_0_mse: 0.35455 |  0:00:07s\n",
      "epoch 25 | loss: 0.37566 | val_0_mse: 0.35508 |  0:00:07s\n",
      "epoch 26 | loss: 0.37786 | val_0_mse: 0.3484  |  0:00:08s\n",
      "epoch 27 | loss: 0.3778  | val_0_mse: 0.35178 |  0:00:08s\n",
      "epoch 28 | loss: 0.37172 | val_0_mse: 0.34613 |  0:00:08s\n",
      "epoch 29 | loss: 0.36386 | val_0_mse: 0.34693 |  0:00:08s\n",
      "epoch 30 | loss: 0.37542 | val_0_mse: 0.34264 |  0:00:09s\n",
      "epoch 31 | loss: 0.36974 | val_0_mse: 0.34146 |  0:00:09s\n",
      "epoch 32 | loss: 0.3701  | val_0_mse: 0.33891 |  0:00:09s\n",
      "epoch 33 | loss: 0.37105 | val_0_mse: 0.33935 |  0:00:10s\n",
      "epoch 34 | loss: 0.3648  | val_0_mse: 0.34172 |  0:00:10s\n",
      "epoch 35 | loss: 0.37046 | val_0_mse: 0.34036 |  0:00:10s\n",
      "epoch 36 | loss: 0.37319 | val_0_mse: 0.34373 |  0:00:10s\n",
      "epoch 37 | loss: 0.37156 | val_0_mse: 0.34039 |  0:00:11s\n",
      "epoch 38 | loss: 0.37804 | val_0_mse: 0.34653 |  0:00:11s\n",
      "epoch 39 | loss: 0.37662 | val_0_mse: 0.34578 |  0:00:11s\n",
      "epoch 40 | loss: 0.37211 | val_0_mse: 0.34273 |  0:00:11s\n",
      "epoch 41 | loss: 0.36999 | val_0_mse: 0.33788 |  0:00:12s\n",
      "epoch 42 | loss: 0.36898 | val_0_mse: 0.34032 |  0:00:12s\n",
      "epoch 43 | loss: 0.37089 | val_0_mse: 0.34714 |  0:00:12s\n",
      "epoch 44 | loss: 0.37242 | val_0_mse: 0.34257 |  0:00:12s\n",
      "epoch 45 | loss: 0.37136 | val_0_mse: 0.34077 |  0:00:12s\n",
      "epoch 46 | loss: 0.36924 | val_0_mse: 0.34164 |  0:00:13s\n",
      "epoch 47 | loss: 0.36909 | val_0_mse: 0.34208 |  0:00:13s\n",
      "epoch 48 | loss: 0.37601 | val_0_mse: 0.33882 |  0:00:13s\n",
      "epoch 49 | loss: 0.37148 | val_0_mse: 0.33801 |  0:00:13s\n",
      "epoch 50 | loss: 0.36792 | val_0_mse: 0.33798 |  0:00:14s\n",
      "epoch 51 | loss: 0.36779 | val_0_mse: 0.33743 |  0:00:14s\n",
      "epoch 52 | loss: 0.37166 | val_0_mse: 0.34014 |  0:00:14s\n",
      "epoch 53 | loss: 0.36085 | val_0_mse: 0.34557 |  0:00:14s\n",
      "epoch 54 | loss: 0.37426 | val_0_mse: 0.34082 |  0:00:15s\n",
      "epoch 55 | loss: 0.37084 | val_0_mse: 0.34063 |  0:00:15s\n",
      "epoch 56 | loss: 0.37061 | val_0_mse: 0.33855 |  0:00:15s\n",
      "epoch 57 | loss: 0.37694 | val_0_mse: 0.33832 |  0:00:15s\n",
      "epoch 58 | loss: 0.37297 | val_0_mse: 0.33876 |  0:00:16s\n",
      "epoch 59 | loss: 0.37529 | val_0_mse: 0.33897 |  0:00:16s\n",
      "epoch 60 | loss: 0.37636 | val_0_mse: 0.34069 |  0:00:16s\n",
      "epoch 61 | loss: 0.37598 | val_0_mse: 0.33763 |  0:00:17s\n",
      "\n",
      "Early stopping occurred at epoch 61 with best_epoch = 51 and best_val_0_mse = 0.33743\n",
      "pred mean 51.21697\n",
      "groun truth mean 52.211436170212764\n"
     ]
    },
    {
     "name": "stderr",
     "output_type": "stream",
     "text": [
      "/opt/anaconda3/envs/chemresearch/lib/python3.12/site-packages/pytorch_tabnet/callbacks.py:172: UserWarning: Best weights from best epoch are automatically used!\n",
      "  warnings.warn(wrn_msg)\n"
     ]
    }
   ],
   "source": [
    "mapping = mapping_5_476\n",
    "avg = avg_5_476\n",
    "scaledmapping = mapping/100\n",
    "a1 = avg[train_indices]\n",
    "m1 = scaledmapping[train_indices]\n",
    "a2 = avg[val_indices]\n",
    "m2 = scaledmapping[val_indices]\n",
    "a3 = avg[test_indices]\n",
    "m3 = scaledmapping[test_indices]\n",
    "print(\"input shape for train\", a1.shape)\n",
    "a1 = a1.reshape(a1.shape[0], -1)\n",
    "a2 = a2.reshape(a2.shape[0], -1)\n",
    "a3 = a3.reshape(a3.shape[0], -1)\n",
    "\n",
    "clf = TabNetRegressor()\n",
    "clf.fit(\n",
    "  a1, m1.reshape(-1, 1),\n",
    "  eval_set=[(a2, m2.reshape(-1, 1))], max_epochs=100\n",
    ")\n",
    "\n",
    "preds = clf.predict(a3)\n",
    "preds = preds[:,0]\n",
    "\n",
    "ap2 = preds*100\n",
    "al2 = m3*100\n",
    "\n",
    "print(\"pred mean\", np.mean(ap2))\n",
    "print(\"groun truth mean\", np.mean(al2))"
   ]
  },
  {
   "cell_type": "code",
   "execution_count": null,
   "metadata": {},
   "outputs": [
    {
     "name": "stdout",
     "output_type": "stream",
     "text": [
      "r2: 0.675529747142556\n"
     ]
    },
    {
     "data": {
      "image/png": "[encoded data removed]",
      "text/plain": [
       "<Figure size 640x480 with 1 Axes>"
      ]
     },
     "metadata": {},
     "output_type": "display_data"
    },
    {
     "ename": "",
     "evalue": "",
     "output_type": "error",
     "traceback": [
      "\u001b[1;31mThe Kernel crashed while executing code in the current cell or a previous cell. \n",
      "\u001b[1;31mPlease review the code in the cell(s) to identify a possible cause of the failure. \n",
      "\u001b[1;31mClick <a href='https://aka.ms/vscodeJupyterKernelCrash'>here</a> for more info. \n",
      "\u001b[1;31mView Jupyter <a href='command:jupyter.viewOutput'>log</a> for further details."
     ]
    }
   ],
   "source": [
    "plt.scatter(ap2,al2)\n",
    "# r=np.corrcoef(ap2[:,0], al2[:,0])\n",
    "r=np.corrcoef(ap2, al2)\n",
    "print(\"r2:\",r[0,1])\n",
    "\n",
    "# line_fit=np.polyfit(ap2[:,0], al2[:,0], 1)\n",
    "x = np.linspace(0, 470,20)\n",
    "y = 1*x\n",
    "plt.plot(x,y,c='r', label='reference line slope=1')\n",
    "plt.title(\"LIG47 Binary interactions with no distance info (98% range)\")\n",
    "plt.ylabel('actual')\n",
    "plt.legend()\n",
    "plt.xlabel('prediction')\n",
    "plt.show()"
   ]
  },
  {
   "cell_type": "code",
   "execution_count": null,
   "metadata": {},
   "outputs": [
    {
     "name": "stdout",
     "output_type": "stream",
     "text": [
      "[0.96744363 0.87433494 0.36128705 0.47504434]\n"
     ]
    }
   ],
   "source": [
    "print(a1.mean(axis=0))\n",
    "# 97% have hydro\n",
    "# 87% have h bond\n",
    "# 36% have aromatic\n",
    "# 47% have charge interactions"
   ]
  },
  {
   "cell_type": "code",
   "execution_count": null,
   "metadata": {},
   "outputs": [],
   "source": []
  }
 ],
 "metadata": {
  "kernelspec": {
   "display_name": "chemresearch",
   "language": "python",
   "name": "python3"
  },
  "language_info": {
   "codemirror_mode": {
    "name": "ipython",
    "version": 3
   },
   "file_extension": ".py",
   "mimetype": "text/x-python",
   "name": "python",
   "nbconvert_exporter": "python",
   "pygments_lexer": "ipython3",
   "version": "3.12.2"
  }
 },
 "nbformat": 4,
 "nbformat_minor": 2
}
